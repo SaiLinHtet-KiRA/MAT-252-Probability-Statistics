{
  "nbformat": 4,
  "nbformat_minor": 0,
  "metadata": {
    "colab": {
      "provenance": [],
      "authorship_tag": "ABX9TyNQwnhO3wLLqU9RrR1srAdx",
      "include_colab_link": true
    },
    "kernelspec": {
      "name": "python3",
      "display_name": "Python 3"
    },
    "language_info": {
      "name": "python"
    }
  },
  "cells": [
    {
      "cell_type": "markdown",
      "metadata": {
        "id": "view-in-github",
        "colab_type": "text"
      },
      "source": [
        "<a href=\"https://colab.research.google.com/github/SaiLinHtet-KiRA/MAT-252-Probability-Statistics/blob/main/Example_9_5.ipynb\" target=\"_parent\"><img src=\"https://colab.research.google.com/assets/colab-badge.svg\" alt=\"Open In Colab\"/></a>"
      ]
    },
    {
      "cell_type": "markdown",
      "source": [
        "# **1.1 Import packages**"
      ],
      "metadata": {
        "id": "yzFlZinGtGf5"
      }
    },
    {
      "cell_type": "code",
      "source": [
        "import numpy as np\n",
        "import matplotlib.pyplot as plt\n",
        "import math"
      ],
      "metadata": {
        "id": "4ZTbvMu-lYeL"
      },
      "execution_count": 1,
      "outputs": []
    },
    {
      "cell_type": "markdown",
      "source": [
        "## **1.2 Variable Declaration**"
      ],
      "metadata": {
        "id": "u7tVdmi3tgS6"
      }
    },
    {
      "cell_type": "code",
      "source": [
        "weeks=np.array([9, 14, 13, 9, 4, 2, 1],int)\n",
        "Failures=np.array([0,1,2,3,4,5,6],int)\n",
        "probability=np.array([])\n",
        "totalWeeks = weeks.sum()\n",
        "\n",
        "print(\"Weeks: \",weeks)\n",
        "print(\"Failures: \",Failures)\n",
        "print(\"Total Weeks: \",totalWeeks)\n",
        "print(\"Probability: \",probability)"
      ],
      "metadata": {
        "colab": {
          "base_uri": "https://localhost:8080/"
        },
        "id": "RJUkZM5TtuhY",
        "outputId": "b36aaf7c-bf6a-4dc4-ec0e-4f153cc37076"
      },
      "execution_count": 2,
      "outputs": [
        {
          "output_type": "stream",
          "name": "stdout",
          "text": [
            "Weeks:  [ 9 14 13  9  4  2  1]\n",
            "Failures:  [0 1 2 3 4 5 6]\n",
            "Total Weeks:  52\n",
            "Probability:  []\n"
          ]
        }
      ]
    },
    {
      "cell_type": "markdown",
      "source": [
        "# **2 Probability Calculation**"
      ],
      "metadata": {
        "id": "qiAwoWlUulvF"
      }
    },
    {
      "cell_type": "code",
      "source": [
        "for i in range(Failures.size):\n",
        "  probability=np.append(probability, round(weeks[i]/totalWeeks, 2))\n",
        "\n",
        "print(\"probability\",probability)"
      ],
      "metadata": {
        "colab": {
          "base_uri": "https://localhost:8080/"
        },
        "id": "dKH_cyILulGY",
        "outputId": "31d11514-112e-4ccc-c42c-bab9f99bdd3a"
      },
      "execution_count": 3,
      "outputs": [
        {
          "output_type": "stream",
          "name": "stdout",
          "text": [
            "probability [0.17 0.27 0.25 0.17 0.08 0.04 0.02]\n"
          ]
        }
      ]
    },
    {
      "cell_type": "markdown",
      "source": [
        "# **3 Graph Creation**"
      ],
      "metadata": {
        "id": "ooo0cEPw4LE5"
      }
    },
    {
      "cell_type": "code",
      "source": [
        "plt.bar(Failures,probability,color=\"black\",width=0.015 )\n",
        "\n",
        "plt.xlabel(\"Number of hardware failures in a week\")\n",
        "plt.ylabel(\"Probability\")\n",
        "plt.show()"
      ],
      "metadata": {
        "colab": {
          "base_uri": "https://localhost:8080/",
          "height": 449
        },
        "id": "MRH9PHwy4VI_",
        "outputId": "ff0067a6-ea65-4b18-8052-8a45435fb0f8"
      },
      "execution_count": 4,
      "outputs": [
        {
          "output_type": "display_data",
          "data": {
            "text/plain": [
              "<Figure size 640x480 with 1 Axes>"
            ],
            "image/png": "[encoded data removed]"
          },
          "metadata": {}
        }
      ]
    }
  ]
}
