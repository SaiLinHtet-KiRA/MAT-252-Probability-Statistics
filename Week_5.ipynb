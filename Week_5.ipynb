{
  "nbformat": 4,
  "nbformat_minor": 0,
  "metadata": {
    "colab": {
      "provenance": [],
      "authorship_tag": "ABX9TyNgivT/oD02gCtOQVdRb3So",
      "include_colab_link": true
    },
    "kernelspec": {
      "name": "python3",
      "display_name": "Python 3"
    },
    "language_info": {
      "name": "python"
    }
  },
  "cells": [
    {
      "cell_type": "markdown",
      "metadata": {
        "id": "view-in-github",
        "colab_type": "text"
      },
      "source": [
        "<a href=\"https://colab.research.google.com/github/SaiLinHtet-KiRA/MAT-252-Probability-Statistics/blob/main/Week_5.ipynb\" target=\"_parent\"><img src=\"https://colab.research.google.com/assets/colab-badge.svg\" alt=\"Open In Colab\"/></a>"
      ]
    },
    {
      "cell_type": "markdown",
      "source": [
        "# **1. The Bernoulli Distribution: The \"Single Trial\" Foundation**"
      ],
      "metadata": {
        "id": "HxkvwvWF4UMs"
      }
    },
    {
      "cell_type": "markdown",
      "source": [
        "**What is it?**\n",
        "\n",
        " • The Bernoulli distribution is the simplest probability distribution.\n",
        "\n",
        " • It models a single experiment or trial that has exactly two possible\n",
        "outcomes: \"success\" (often coded as 1) and \"failure\" (often coded as 0).\n",
        "\n",
        " • It is the fundamental building block for all the other distributions\n",
        "(Geometric, Binomial, etc.).\n",
        "\n",
        "**When do we use it?**\n",
        "\n",
        "• Use it any time you are modeling a single event with a binary outcome\n",
        "(yes/no, on/off, head/tail, success/failure) that has a fixed probability.\n",
        "\n",
        "The Formula (PMF - Probability Mass Function):\n",
        "\n",
        "  • The probability mass function is defined as:\n",
        "\n",
        "##  **P(X = 1) = p**\n",
        "\n",
        "##  **P(X = 0) = 1 – p**\n",
        "\n",
        "  • This can also be written compactly as:\n",
        "##  **P(X = x) = px**\n",
        "\n",
        "##  **(1- p)1-x**\n",
        "\n",
        "  for x ∈ {0, 1}."
      ],
      "metadata": {
        "id": "ZgZIFGko4sQh"
      }
    },
    {
      "cell_type": "code",
      "execution_count": 45,
      "metadata": {
        "colab": {
          "base_uri": "https://localhost:8080/"
        },
        "id": "HZCyj-0s4FaJ",
        "outputId": "b0d4934b-e7e1-4b14-de23-7243a1f28809"
      },
      "outputs": [
        {
          "output_type": "execute_result",
          "data": {
            "text/plain": [
              "array([1, 0, 0, 0, 0, 0, 1, 0, 0, 0])"
            ]
          },
          "metadata": {},
          "execution_count": 45
        }
      ],
      "source": [
        "import numpy as np\n",
        "\n",
        "n = 1  # Number of trials\n",
        "p = 0.3  # Probability of success\n",
        "size = 10  # Number of random samples\n",
        "\n",
        "# Generate random samples\n",
        "np.random.binomial(n, p, size)"
      ]
    },
    {
      "cell_type": "markdown",
      "source": [
        "# **2. The Geometric Distribution: The \"Waiting Time\" Distribution**"
      ],
      "metadata": {
        "id": "YfhDfg3sBKQS"
      }
    },
    {
      "cell_type": "code",
      "source": [
        "import numpy as np\n",
        "\n",
        "# Parameters\n",
        "p = 0.1  # Probability of success\n",
        "x = 4    # Number of failures before the first success (i.e., 5th trial)\n",
        "\n",
        "# 1. Probability that the first success occurs on the 5th trial (4 failures before)\n",
        "prob_5th_trial = (1 - p)**x * p\n",
        "print(f\"P(1st success on 5th trial) = {prob_5th_trial}\")\n",
        "\n",
        "# 2. Probability that the first success occurs on or before the 5th trial (within the first 5 trials)\n",
        "prob_within_5_trials = 1 - (1 - p)**(x + 1)\n",
        "print(f\"P(1st success on or before 5th trial) = {prob_within_5_trials}\")\n"
      ],
      "metadata": {
        "colab": {
          "base_uri": "https://localhost:8080/"
        },
        "id": "aW9yFkkKCrIL",
        "outputId": "1cbf3f2e-86c5-457b-a91b-f773c8361302"
      },
      "execution_count": 58,
      "outputs": [
        {
          "output_type": "stream",
          "name": "stdout",
          "text": [
            "P(1st success on 5th trial) = 0.06561\n",
            "P(1st success on or before 5th trial) = 0.40950999999999993\n"
          ]
        }
      ]
    }
  ]
}