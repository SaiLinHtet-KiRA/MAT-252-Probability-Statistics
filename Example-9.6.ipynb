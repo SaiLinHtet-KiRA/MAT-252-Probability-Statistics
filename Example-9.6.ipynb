{
  "nbformat": 4,
  "nbformat_minor": 0,
  "metadata": {
    "colab": {
      "provenance": [],
      "authorship_tag": "ABX9TyP25v0tra5ZZ+qUdqcwSeWT",
      "include_colab_link": true
    },
    "kernelspec": {
      "name": "python3",
      "display_name": "Python 3"
    },
    "language_info": {
      "name": "python"
    }
  },
  "cells": [
    {
      "cell_type": "markdown",
      "metadata": {
        "id": "view-in-github",
        "colab_type": "text"
      },
      "source": [
        "<a href=\"https://colab.research.google.com/github/SaiLinHtet-KiRA/MAT-252-Probability-Statistics/blob/main/Example-9.6.ipynb\" target=\"_parent\"><img src=\"https://colab.research.google.com/assets/colab-badge.svg\" alt=\"Open In Colab\"/></a>"
      ]
    },
    {
      "cell_type": "code",
      "execution_count": 1,
      "metadata": {
        "id": "w1-p2tReUqPR",
        "colab": {
          "base_uri": "https://localhost:8080/"
        },
        "outputId": "b41ca804-6c01-48fb-8a23-00539e494b1a"
      },
      "outputs": [
        {
          "output_type": "stream",
          "name": "stdout",
          "text": [
            "['Heads' 'Heads' 'Heads' 'Heads' 'Heads' 'Heads' 'Heads' 'Tails' 'Heads'\n",
            " 'Heads']\n"
          ]
        }
      ],
      "source": [
        "import numpy as np\n",
        "\n",
        "# Define possible outcomes\n",
        "outcomes = ['Heads', 'Tails']\n",
        "\n",
        "# Define probabilities for each outcome\n",
        "probabilities = [0.6, 0.4]  # 60% chance of Heads, 40% chance of Tails\n",
        "\n",
        "# Simulate 10 coin flips with these probabilities\n",
        "simulated_flips = np.random.choice(outcomes, size=10, p=probabilities)\n",
        "\n",
        "print(simulated_flips)"
      ]
    },
    {
      "cell_type": "markdown",
      "source": [
        "# **1.1 Import packages**"
      ],
      "metadata": {
        "id": "yzFlZinGtGf5"
      }
    },
    {
      "cell_type": "code",
      "source": [
        "import numpy as np\n",
        "import matplotlib.pyplot as plt"
      ],
      "metadata": {
        "id": "4ZTbvMu-lYeL"
      },
      "execution_count": 2,
      "outputs": []
    },
    {
      "cell_type": "markdown",
      "source": [
        "## **1.2 Variable Declaration**"
      ],
      "metadata": {
        "id": "u7tVdmi3tgS6"
      }
    },
    {
      "cell_type": "code",
      "source": [
        "times=np.array([100, 200, 500, 500, 400, 200, 80,20],int)\n",
        "stackSizes =np.array([0,1,2,3,4,5,6,7],int)\n",
        "probability=np.array([])\n",
        "totalTimes = times.sum()\n",
        "\n",
        "print(\"Times: \",times)\n",
        "print(\"stack Sizes: \",stackSizes)\n",
        "print(\"Total Times: \",totalTimes)\n",
        "print(\"Probability: \",probability)"
      ],
      "metadata": {
        "colab": {
          "base_uri": "https://localhost:8080/"
        },
        "id": "RJUkZM5TtuhY",
        "outputId": "f7d16d89-9e1b-45bf-a48c-0ed7d0ae4b9f"
      },
      "execution_count": 3,
      "outputs": [
        {
          "output_type": "stream",
          "name": "stdout",
          "text": [
            "Times:  [100 200 500 500 400 200  80  20]\n",
            "stack Sizes:  [0 1 2 3 4 5 6 7]\n",
            "Total Times:  2000\n",
            "Probability:  []\n"
          ]
        }
      ]
    },
    {
      "cell_type": "markdown",
      "source": [
        "# **2 Probability Calculation**"
      ],
      "metadata": {
        "id": "qiAwoWlUulvF"
      }
    },
    {
      "cell_type": "code",
      "source": [
        "for i in range(stackSizes.size):\n",
        "  probability=np.append(probability, times[i]/totalTimes)\n",
        "\n",
        "print(\"probability\",probability)"
      ],
      "metadata": {
        "colab": {
          "base_uri": "https://localhost:8080/"
        },
        "id": "dKH_cyILulGY",
        "outputId": "510b5669-b3f1-4c39-a5ec-dfab11b7dc0a"
      },
      "execution_count": 4,
      "outputs": [
        {
          "output_type": "stream",
          "name": "stdout",
          "text": [
            "probability [0.05 0.1  0.25 0.25 0.2  0.1  0.04 0.01]\n"
          ]
        }
      ]
    },
    {
      "cell_type": "markdown",
      "source": [
        "# **3 Graph Creation**"
      ],
      "metadata": {
        "id": "ooo0cEPw4LE5"
      }
    },
    {
      "cell_type": "code",
      "source": [
        "plt.bar(stackSizes,probability,color=\"black\",width=0.015 )\n",
        "\n",
        "plt.xlabel(\"Number of hardware failures in a week\")\n",
        "plt.ylabel(\"Probability\")\n",
        "plt.show()"
      ],
      "metadata": {
        "colab": {
          "base_uri": "https://localhost:8080/",
          "height": 449
        },
        "id": "MRH9PHwy4VI_",
        "outputId": "19bd167e-2c1a-48cf-96e1-78febf8f280f"
      },
      "execution_count": 5,
      "outputs": [
        {
          "output_type": "display_data",
          "data": {
            "text/plain": [
              "<Figure size 640x480 with 1 Axes>"
            ],
            "image/png": "[encoded data removed]"
          },
          "metadata": {}
        }
      ]
    }
  ]
}