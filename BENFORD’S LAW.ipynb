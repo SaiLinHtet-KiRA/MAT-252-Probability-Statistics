{
  "nbformat": 4,
  "nbformat_minor": 0,
  "metadata": {
    "colab": {
      "provenance": [],
      "authorship_tag": "ABX9TyNfXbrX+NRCZIFCgC2kJ4xB",
      "include_colab_link": true
    },
    "kernelspec": {
      "name": "python3",
      "display_name": "Python 3"
    },
    "language_info": {
      "name": "python"
    }
  },
  "cells": [
    {
      "cell_type": "markdown",
      "metadata": {
        "id": "view-in-github",
        "colab_type": "text"
      },
      "source": [
        "<a href=\"https://colab.research.google.com/github/SaiLinHtet-KiRA/MAT-252-Probability-Statistics/blob/main/BENFORD%E2%80%99S_LAW.ipynb\" target=\"_parent\"><img src=\"https://colab.research.google.com/assets/colab-badge.svg\" alt=\"Open In Colab\"/></a>"
      ]
    },
    {
      "cell_type": "markdown",
      "source": [
        "## **BENFORD’S LAW from page-174**"
      ],
      "metadata": {
        "id": "ncIULIq10-Kt"
      }
    },
    {
      "cell_type": "markdown",
      "source": [
        "# **1.1 Import packages**"
      ],
      "metadata": {
        "id": "3f0nJfEq1l_w"
      }
    },
    {
      "cell_type": "markdown",
      "source": [
        "First,we import packages that will use for this exerice.\n",
        "\n",
        "1. Numpy for creating array.\n",
        "\n",
        "2. mamatplotlib for creating graph."
      ],
      "metadata": {
        "id": "yKNWpqGl1mtD"
      }
    },
    {
      "cell_type": "code",
      "execution_count": 18,
      "metadata": {
        "id": "xMRXRGEM009K"
      },
      "outputs": [],
      "source": [
        "import numpy as np\n",
        "import matplotlib.pyplot as plt"
      ]
    },
    {
      "cell_type": "markdown",
      "source": [
        "## **1.2 Variable Declaration**"
      ],
      "metadata": {
        "id": "8IwJjCZA1vGi"
      }
    },
    {
      "cell_type": "markdown",
      "source": [],
      "metadata": {
        "id": "zVIAWtZG1wOa"
      }
    },
    {
      "cell_type": "code",
      "source": [
        "numbers=np.array([1,2,3,4,5,6,7,8,9],int)\n",
        "probability=np.array([])\n",
        "\n",
        "print(\"numbers: \",numbers)\n",
        "print(\"Probability: \",probability)"
      ],
      "metadata": {
        "colab": {
          "base_uri": "https://localhost:8080/"
        },
        "id": "7YEohYOT1v4q",
        "outputId": "32115b54-e162-4781-eb2d-5a297887913c"
      },
      "execution_count": 19,
      "outputs": [
        {
          "output_type": "stream",
          "name": "stdout",
          "text": [
            "numbers:  [1 2 3 4 5 6 7 8 9]\n",
            "Probability:  []\n"
          ]
        }
      ]
    },
    {
      "cell_type": "markdown",
      "source": [
        "# **2 BENFORD’S LAW Calculation**"
      ],
      "metadata": {
        "id": "hDdjU2if2P1y"
      }
    },
    {
      "cell_type": "code",
      "source": [
        "for x in numbers:\n",
        "   probability=np.append(probability, round(np.log10(1 + 1/x),3))\n",
        "\n",
        "print(probability)"
      ],
      "metadata": {
        "colab": {
          "base_uri": "https://localhost:8080/"
        },
        "id": "dhB0lVHP2VxJ",
        "outputId": "a641860a-be72-4c75-b291-4f947c9cdad7"
      },
      "execution_count": 20,
      "outputs": [
        {
          "output_type": "stream",
          "name": "stdout",
          "text": [
            "[0.301 0.176 0.125 0.097 0.079 0.067 0.058 0.051 0.046]\n"
          ]
        }
      ]
    },
    {
      "cell_type": "markdown",
      "source": [
        "# **3 Graph Creation**"
      ],
      "metadata": {
        "id": "CUvHRG814MCr"
      }
    },
    {
      "cell_type": "markdown",
      "source": [
        "And then, draw the praph. X-axis is number of times and y-axis is probability"
      ],
      "metadata": {
        "id": "__40D_B54Pii"
      }
    },
    {
      "cell_type": "code",
      "source": [
        "plt.bar(numbers,probability,color=\"black\",width=0.1 )\n",
        "\n",
        "plt.xlabel(\"First digit\")\n",
        "plt.ylabel(\"Probability\")\n",
        "plt.show()"
      ],
      "metadata": {
        "colab": {
          "base_uri": "https://localhost:8080/",
          "height": 449
        },
        "id": "8CGGy_dx4Mqc",
        "outputId": "0c97acd0-ccb0-4f28-d0b7-7dc93adb3f27"
      },
      "execution_count": 24,
      "outputs": [
        {
          "output_type": "display_data",
          "data": {
            "text/plain": [
              "<Figure size 640x480 with 1 Axes>"
            ],
            "image/png": "[encoded data removed]"
          },
          "metadata": {}
        }
      ]
    },
    {
      "cell_type": "markdown",
      "source": [
        "# **Short Form**\n",
        "\n",
        "You can also use like this for calculation."
      ],
      "metadata": {
        "id": "lHwvgeeJ3yWt"
      }
    },
    {
      "cell_type": "code",
      "source": [
        "import numpy as np\n",
        "\n",
        "x = np.arange(1, 10)   # digits 1 to 9\n",
        "prob = np.log10(1 + 1/x)\n",
        "print(prob)"
      ],
      "metadata": {
        "colab": {
          "base_uri": "https://localhost:8080/"
        },
        "id": "zeNnDUrG3KV_",
        "outputId": "c68288e0-9585-43ac-9064-cfdc123486c0"
      },
      "execution_count": 22,
      "outputs": [
        {
          "output_type": "stream",
          "name": "stdout",
          "text": [
            "[0.30103    0.17609126 0.12493874 0.09691001 0.07918125 0.06694679\n",
            " 0.05799195 0.05115252 0.04575749]\n"
          ]
        }
      ]
    }
  ]
}
